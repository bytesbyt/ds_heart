{
 "cells": [
  {
   "cell_type": "code",
   "execution_count": null,
   "metadata": {},
   "outputs": [],
   "source": [
    "import yfinance as yf\n",
    "import pandas as pd\n",
    "\n",
    "# Define the ticker symbol\n",
    "ticker_symbol = 'AAPL'\n",
    "\n",
    "# Get data on this ticker\n",
    "ticker_data = yf.Ticker(ticker_symbol)\n",
    "\n",
    "# Get the historical prices for this ticker\n",
    "ticker_df = ticker_data.history(period='1d', start='2020-01-01', end='2023-01-01')\n",
    "\n",
    "# Display the DataFrame\n",
    "ticker_df\n"
   ]
  }
 ],
 "metadata": {
  "language_info": {
   "name": "python"
  }
 },
 "nbformat": 4,
 "nbformat_minor": 2
}
